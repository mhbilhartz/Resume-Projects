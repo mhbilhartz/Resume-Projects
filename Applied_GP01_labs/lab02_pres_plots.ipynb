{
 "cells": [
  {
   "cell_type": "markdown",
   "id": "463e2353-1bdb-40e3-934f-ff77f05dac5f",
   "metadata": {},
   "source": [
    "# Lab 02 - Applied Geophysics 1\n",
    "## Surveying Techniques\n",
    "Molly Bilhartz"
   ]
  },
  {
   "cell_type": "markdown",
   "id": "ce71ca6b-7866-48f1-a759-f6f343bdf551",
   "metadata": {},
   "source": [
    "## Objectives\n",
    "1) Describe how the GPS receivers calculate our position.\n",
    "\n",
    "GPS receivers calculate our position using trilateration. GPS receivers use satellites to determine their position. A satellite will send its exact position in orbit and a signal timestamp to the GPS receiver. By measuring the travel time of signals from 4 different satellites (needs 1 satellite per dimension), the receiver computes distances and solves for your/its latitude, longitude, elevation, and time.\n",
    "\n",
    "2) Describe how a Differential GPS reduces the error compared to a handheld GPS.\n",
    "\n",
    "A differential GPS uses 1 fixed base station with known and unchanging latitude, longitude and elevation in conjunction with a mobile GPS receiver that is moved manually from site to site collecting latitude, longitude, elevation and time data. The base station compares its known position with the GPS calculated location, corrects for errors and produces more precise coordinates down to 1-3 m. While we learned last week that the handheld GPS devices are accurate to about 5-15 m with less than ideal weather conditions; this is a significant reduction in error.\n",
    "\n",
    "3) Describe how a Total Station is used to determine position.\n",
    "\n",
    "Similar to how a DGPS survey uses 1 fixed position transmitter and 1 mobile receiver, the total station is the fixed station in this survey and a corner reflector is the mobile receiver. The corner reflector receives the laser being shot from the total station and reflects it back to the total station where the total station measures the distance by timing the laser’s reflection as well as horizontal and vertical angles to the corner reflector. Using its known position along with the angles and distance (time derived) measurements, the total station calculates precise coordinates down to a few centimeters.\n"
   ]
  },
  {
   "cell_type": "code",
   "execution_count": 2,
   "id": "20e04e75-d27e-4c97-82f3-ca9ad525cfe8",
   "metadata": {},
   "outputs": [],
   "source": [
    "import pandas as pd\n",
    "import numpy as np\n",
    "import matplotlib.pyplot as plt\n",
    "import geopandas as gpd\n",
    "import contextily as ctx"
   ]
  },
  {
   "cell_type": "code",
   "execution_count": 3,
   "id": "34b18d16-9dc7-44a4-83aa-cca6c7ccfac4",
   "metadata": {},
   "outputs": [],
   "source": [
    "handheld_data = [\n",
    "    'handheld-lab2-grp1.csv',\n",
    "    'Lab2Handheld.csv',\n",
    "    'Group02-Handheld-Data.csv',\n",
    "    'lab02-data.csv']\n",
    "\n",
    "emlid_dgps_data = [\n",
    "    'emlid-group 2 and 3.csv',\n",
    "    'emlid-lab 02.csv',\n",
    "    'emlid-lab 2.csv',\n",
    "    'Lab2DataEmlid.csv']\n",
    "\n",
    "trimble_totstat_data = [\n",
    "    'trimble-tsc3-gpgn318 lab 2.csv',\n",
    "    'trimble-tsc3-gpgn318 lab2 g2.csv',\n",
    "    'trimble-tsc5-lab 2.csv',\n",
    "    'total-station-Lab 2.csv']\n",
    "    "
   ]
  },
  {
   "cell_type": "code",
   "execution_count": 6,
   "id": "a64f9783-3426-4c4b-aacb-9f6193072dba",
   "metadata": {},
   "outputs": [
    {
     "name": "stdout",
     "output_type": "stream",
     "text": [
      "   flag  easting_m  northing_m\n",
      "0    A1     481012     4400171\n",
      "1    A2     481017     4400173\n",
      "2    A3     481021     4400176\n",
      "3    A4     481026     4400180\n",
      "4    A5     481030     4400183\n",
      "5    B1     481016     4400171\n",
      "6    B2     481020     4400173\n",
      "7    B3     481025     4400175\n",
      "8    B4     481029     4400177\n",
      "9    B5     481032     4400181\n",
      "10   C1     481019     4400167\n",
      "11   C2     481024     4400172\n",
      "12   C3     481029     4400176\n",
      "13   C4     481032     4400181\n",
      "14   C5     481033     4400179\n",
      "15   D1     481023     4400165\n",
      "16   D2     481026     4400169\n",
      "17   D3     481028     4400169\n",
      "18   D4     481031     4400171\n",
      "19   D5     481037     4400172\n"
     ]
    }
   ],
   "source": [
    "h1 = pd.read_csv('../coursework_molly/Lab02/handheld-lab2-grp1.csv')\n",
    "h1_reindex = h1[[\"flag\", \"easting_m\", \"northing_m\"]]\n",
    "print(h1_reindex)"
   ]
  },
  {
   "cell_type": "code",
   "execution_count": 7,
   "id": "f446af32-94d0-4f22-9d7b-a2ec3d12a5e2",
   "metadata": {},
   "outputs": [
    {
     "name": "stdout",
     "output_type": "stream",
     "text": [
      "  flag  easting_m  northing_m\n",
      "0   E1     481041     4400167\n",
      "1   E2     481038     4400163\n",
      "2   E3     481033     4400160\n",
      "3   E4     481030     4400156\n",
      "4   E5     481027     4400154\n"
     ]
    }
   ],
   "source": [
    "h2 = pd.read_csv(\"../coursework_molly/Lab02/Lab2Handheld.csv\", header=None, usecols=[0,2,3])\n",
    "h2.columns = [\"flag\", \"easting_m\", \"northing_m\"]\n",
    "h2[\"flag\"] = [f\"E{i+1}\" for i in range(len(h2))]\n",
    "print(h2.head())\n"
   ]
  },
  {
   "cell_type": "code",
   "execution_count": 8,
   "id": "54914a92-9f05-4c6a-a427-de7468f5c042",
   "metadata": {},
   "outputs": [
    {
     "name": "stdout",
     "output_type": "stream",
     "text": [
      "  flag  easting_m  northing_m\n",
      "0   A1     481018     4400178\n",
      "1   A2     481022     4400180\n",
      "2   A3     481027     4400184\n",
      "3   A4     481031     4400186\n",
      "4   A5     481032     4400188\n"
     ]
    }
   ],
   "source": [
    "h3 = pd.read_csv(\"../coursework_molly/Lab02/Group02-Handheld-Data.csv\")\n",
    "h3.columns = [\"Pt\", \"Latitude\", \"Longitude\"]\n",
    "h3.rename(columns={\"Pt\": \"flag\", 'Latitude':'easting_m', 'Longitude':'northing_m'}, inplace=True)\n",
    "print(h3.head())\n"
   ]
  },
  {
   "cell_type": "code",
   "execution_count": 9,
   "id": "7b32b691-81d5-4119-8355-bdb98937161c",
   "metadata": {},
   "outputs": [
    {
     "name": "stdout",
     "output_type": "stream",
     "text": [
      "  flag   easting_m   northing_m\n",
      "0   A1  481014.371  4400174.931\n",
      "1   A2  481018.034  4400178.063\n",
      "2   A3  481022.084  4400180.952\n",
      "3   A4  481026.202  4400183.751\n",
      "4   A5  481030.367  4400186.545\n"
     ]
    }
   ],
   "source": [
    "h4 = pd.read_csv('../coursework_molly/Lab02/lab02-data.csv')\n",
    "h4.rename(columns={\"Point Name\": \"flag\", 'Easting':'easting_m', 'Northing':'northing_m'}, inplace=True)\n",
    "h4 = h4[['flag', 'easting_m', 'northing_m']]\n",
    "print(h4.head())"
   ]
  },
  {
   "cell_type": "code",
   "execution_count": 10,
   "id": "2ced1f58-6b24-4907-82f5-a69f106b4813",
   "metadata": {},
   "outputs": [
    {
     "name": "stdout",
     "output_type": "stream",
     "text": [
      "  flag   easting_m   northing_m\n",
      "0   5e  481041.313  4400170.042\n",
      "1  5e1  481041.315  4400170.053\n",
      "2   4e  481037.226  4400167.237\n",
      "3  4e1  481037.217  4400167.243\n",
      "4   3e  481033.107  4400164.367\n"
     ]
    }
   ],
   "source": [
    "e1 = pd.read_csv('../coursework_molly/Lab02/emlid-group 2 and 3.csv')\n",
    "e1 = e1[['Name', 'Easting', 'Northing']]\n",
    "e1.rename(columns={'Name': 'flag', 'Easting':'easting_m', 'Northing':'northing_m'}, inplace=True)\n",
    "print(e1.head())"
   ]
  },
  {
   "cell_type": "code",
   "execution_count": 11,
   "id": "b9f9fba4-7de7-4144-a0fa-298cb31c5f00",
   "metadata": {},
   "outputs": [
    {
     "name": "stdout",
     "output_type": "stream",
     "text": [
      "  flag   easting_m   northing_m\n",
      "0   D1  481022.531  4400162.889\n",
      "1   D1  481022.585  4400162.899\n",
      "2   D2  481026.649  4400165.783\n",
      "3   D3  481030.724  4400168.591\n",
      "4   D4  481034.757  4400171.490\n",
      "(7, 3)\n"
     ]
    }
   ],
   "source": [
    "e2 = pd.read_csv('../coursework_molly/Lab02/emlid-lab 02.csv')\n",
    "e2 = e2[['Name', 'Easting', 'Northing']]\n",
    "e2.rename(columns={'Name': 'flag', 'Easting':'easting_m', 'Northing':'northing_m'}, inplace=True)\n",
    "print(e2.head())\n",
    "print(e2.shape)"
   ]
  },
  {
   "cell_type": "code",
   "execution_count": 12,
   "id": "039d7bbe-31c5-4221-b3d6-79568fd6190b",
   "metadata": {},
   "outputs": [
    {
     "name": "stdout",
     "output_type": "stream",
     "text": [
      "    flag   easting_m   northing_m\n",
      "0   well  481043.533  4400178.933\n",
      "1     e5  481041.820  4400170.147\n",
      "2     e5  481041.816  4400170.151\n",
      "3     e6  481037.716  4400167.403\n",
      "4     e4  481037.628  4400167.408\n",
      "5     e3  481033.492  4400164.599\n",
      "6     e3  481033.563  4400164.520\n",
      "7     e2  481029.464  4400161.718\n",
      "8    eq1  481025.441  4400158.828\n",
      "9     d2  481026.631  4400165.783\n",
      "10    c3  481027.810  4400172.617\n",
      "11   nb4  481029.083  4400179.728\n",
      "12    a1  481029.845  4400184.635\n",
      "13    d4  481034.799  4400171.488\n",
      "14    b2  481020.931  4400173.966\n",
      "15    b3  481020.928  4400173.966\n",
      "16    a1  481014.019  4400175.243\n",
      "17    a2  481018.043  4400178.105\n",
      "18    a3  481022.172  4400180.972\n",
      "19    a4  481026.250  4400183.828\n",
      "20    b5  481033.233  4400182.527\n",
      "21    a5  481030.423  4400186.623\n",
      "22    c5  481036.074  4400178.360\n",
      "23    c6  481036.086  4400178.396\n",
      "24    d5  481038.948  4400174.306\n",
      "25    e4  481030.719  4400168.648\n",
      "26    d3  481030.730  4400168.671\n",
      "27    d1  481022.530  4400162.924\n",
      "28    c1  481019.679  4400167.259\n",
      "29    b1  481016.870  4400171.152\n",
      "30    c2  481023.862  4400169.852\n",
      "31    c4  481032.236  4400175.715\n",
      "32    b3  481024.989  4400176.859\n",
      "(33, 3)\n"
     ]
    }
   ],
   "source": [
    "e3 = pd.read_csv('../coursework_molly/Lab02/emlid-lab 2.csv')\n",
    "e3 = e3[['Name', 'Easting', 'Northing']]\n",
    "e3.rename(columns={'Name': 'flag', 'Easting':'easting_m', 'Northing':'northing_m'}, inplace=True)\n",
    "print(e3)\n",
    "print(e3.shape)"
   ]
  },
  {
   "cell_type": "code",
   "execution_count": 13,
   "id": "dece4622-dab7-4d77-af62-19dabff62073",
   "metadata": {},
   "outputs": [
    {
     "name": "stdout",
     "output_type": "stream",
     "text": [
      "   flag   easting_m   northing_m\n",
      "0    e5  481041.811  4400170.153\n",
      "1    e4  481037.640  4400167.391\n",
      "2    e3  481033.527  4400164.539\n",
      "3    e2  481029.453  4400161.675\n",
      "4    e1  481025.363  4400158.791\n",
      "5    d2  481026.636  4400165.777\n",
      "6    c3  481027.856  4400172.738\n",
      "7    b4  481029.077  4400179.688\n",
      "8    a5  481030.395  4400186.591\n",
      "9    a5  481030.391  4400186.559\n",
      "10   d4  481034.800  4400171.520\n",
      "11   b2  481020.923  4400173.964\n",
      "12   a1  481014.012  4400175.200\n",
      "13   a2  481018.067  4400178.081\n",
      "14   a3  481022.163  4400180.946\n",
      "15   a4  481026.283  4400183.771\n",
      "16   b5  481033.271  4400182.497\n",
      "17   c5  481036.115  4400178.396\n",
      "18   d5  481038.962  4400174.295\n",
      "19   d3  481030.728  4400168.654\n",
      "20   d1  481022.517  4400162.880\n",
      "21   c1  481019.637  4400167.096\n",
      "22   b1  481016.866  4400171.130\n",
      "23   c2  481023.770  4400169.889\n",
      "24   c4  481031.960  4400175.598\n",
      "25   b3  481024.994  4400176.859\n",
      "(26, 3)\n"
     ]
    }
   ],
   "source": [
    "e4 = pd.read_csv('../coursework_molly/Lab02/Lab2DataEmlid.csv')\n",
    "e4 = e4[['Flag Row','Flag Column', 'Easting', 'Northing']]\n",
    "e4.rename(columns={'Flag Row': 'flag', 'Easting':'easting_m', 'Northing':'northing_m'}, inplace=True)\n",
    "\n",
    "e4[\"flag\"] = e4[\"flag\"].str.lower() + e4[\"Flag Column\"].astype(str)\n",
    "e4 = e4.drop(columns=[\"Flag Column\"])\n",
    "\n",
    "print(e4)\n",
    "print(e4.shape)"
   ]
  },
  {
   "cell_type": "code",
   "execution_count": 14,
   "id": "686c1061-e3d5-4a22-8f12-885be30cf76a",
   "metadata": {},
   "outputs": [
    {
     "name": "stdout",
     "output_type": "stream",
     "text": [
      "  flag   easting_m   northing_m\n",
      "0   A1  481022.084  4400180.952\n",
      "1   A2  481018.034  4400178.063\n",
      "2   A3  481014.371  4400174.931\n",
      "3   A4  481026.202  4400183.751\n",
      "4   A5  481030.367  4400186.545\n",
      "(5, 3)\n"
     ]
    }
   ],
   "source": [
    "t1 = pd.read_csv('../coursework_molly/Lab02/trimble-tsc3-gpgn318 lab 2.csv')\n",
    "t1.columns = ['flag', 'northing_m', 'easting_m', 'a', 'b']\n",
    "t1 = t1.drop(columns=['a','b'])\n",
    "t1.loc[ : ,'flag'] = ['A1','A2','A3','A4','A5']\n",
    "\n",
    "# Reorder columns\n",
    "t1 = t1[['flag', 'easting_m', 'northing_m']]\n",
    "\n",
    "print(t1)\n",
    "print(t1.shape)"
   ]
  },
  {
   "cell_type": "code",
   "execution_count": 15,
   "id": "091ab205-16c7-4b83-a8e1-e049980f5e6d",
   "metadata": {},
   "outputs": [
    {
     "name": "stdout",
     "output_type": "stream",
     "text": [
      "  flag   easting_m   northing_m\n",
      "0   D1  481022.495  4400162.874\n",
      "1   D2  481026.594  4400165.736\n",
      "2   D3  481030.689  4400168.581\n",
      "3   D4  481034.768  4400171.461\n",
      "4   D5  481038.911  4400174.234\n",
      "5   E1  481025.271  4400158.739\n",
      "6   E2  481029.385  4400161.636\n",
      "7   E3  481033.475  4400164.510\n",
      "8   E4  481037.580  4400167.344\n",
      "9   E5  481041.715  4400170.141\n",
      "(10, 3)\n"
     ]
    }
   ],
   "source": [
    "t2 = pd.read_csv('../coursework_molly/Lab02/trimble-tsc3-gpgn318 lab2 g2.csv')\n",
    "t2.columns = ['flag', 'northing_m', 'easting_m', 'a', 'b']\n",
    "t2 = t2.drop(columns=['a','b'])\n",
    "\n",
    "t2.loc[ :4, 'flag'] = ['D1','D2','D3','D4','D5']\n",
    "t2.loc[5: , 'flag'] = ['E1','E2','E3','E4','E5']\n",
    "\n",
    "t2 = t2[['flag', 'easting_m', 'northing_m']]\n",
    "\n",
    "print(t2)\n",
    "print(t2.shape)\n"
   ]
  },
  {
   "cell_type": "code",
   "execution_count": 16,
   "id": "7af396e4-3c23-4b95-9270-7a6b2fe6383f",
   "metadata": {},
   "outputs": [
    {
     "name": "stdout",
     "output_type": "stream",
     "text": [
      "       flag   easting_m   northing_m\n",
      "0   EL_5773  480944.354  4400167.148\n",
      "1        b5  481033.196  4400182.449\n",
      "2        b4  481029.047  4400179.663\n",
      "3        b3  481024.933  4400176.858\n",
      "4        b2  481020.866  4400173.940\n",
      "5        b1  481016.811  4400171.082\n",
      "6        c5  481036.072  4400178.346\n",
      "7        c4  481031.928  4400175.563\n",
      "8        c3  481027.808  4400172.711\n",
      "9        c2  481023.713  4400169.858\n",
      "10       c1  481019.568  4400167.059\n",
      "(11, 3)\n"
     ]
    }
   ],
   "source": [
    "t3 = pd.read_csv('../coursework_molly/Lab02/trimble-tsc5-lab 2.csv')\n",
    "t3.columns = ['flag', 'northing_m', 'easting_m', 'a', 'b']\n",
    "t3= t3.drop(columns=['a','b'])\n",
    "t3 = t3[['flag', 'easting_m', 'northing_m']]\n",
    "\n",
    "print(t3)\n",
    "print(t3.shape)\n"
   ]
  },
  {
   "cell_type": "code",
   "execution_count": 17,
   "id": "2cb6cde7-98f7-430e-bdec-6ae5b577c80d",
   "metadata": {},
   "outputs": [
    {
     "name": "stdout",
     "output_type": "stream",
     "text": [
      "    flag   easting_m   northing_m\n",
      "0    Kaf  481043.533  4400178.933\n",
      "1   base  481012.800  4400187.822\n",
      "2     A1  481013.965  4400175.192\n",
      "3     A2  481018.028  4400178.064\n",
      "4     A3  481022.166  4400180.935\n",
      "5     A4  481026.304  4400183.788\n",
      "6     A5  481030.399  4400186.590\n",
      "7     B1  481016.867  4400171.127\n",
      "8     B2  481020.921  4400174.000\n",
      "9     B3  481024.973  4400176.888\n",
      "10    B4  481029.095  4400179.746\n",
      "11    B5  481033.280  4400182.542\n",
      "12    C1  481019.737  4400167.082\n",
      "13    C2  481023.800  4400169.876\n",
      "14    C3  481027.833  4400172.698\n",
      "15    C4  481031.967  4400175.490\n",
      "16    C5  481036.194  4400178.352\n",
      "17    D1  481022.428  4400162.869\n",
      "18    D2  481026.597  4400165.700\n",
      "19    D3  481030.680  4400168.584\n",
      "20    D4  481034.789  4400171.443\n",
      "21    D5  481038.936  4400174.211\n",
      "22    E1  481025.311  4400158.746\n",
      "23    E2  481029.428  4400161.601\n",
      "24    E3  481033.520  4400164.465\n",
      "25    E4  481037.646  4400167.330\n",
      "26    E5  481041.773  4400170.098\n",
      "27    CT  481047.852  4400153.840\n",
      "(28, 3)\n"
     ]
    }
   ],
   "source": [
    "t4 = pd.read_csv('../coursework_molly/Lab02/total-station-Lab 2.csv')\n",
    "t4.columns = ['flag', 'northing_m', 'easting_m', 'a', 'b']\n",
    "t4= t4.drop(columns=['a','b'])\n",
    "t4 = t4.drop(index=t4.index[28:])\n",
    "\n",
    "t4 = t4[['flag', 'easting_m', 'northing_m']]\n",
    "\n",
    "print(t4)\n",
    "print(t4.shape)\n"
   ]
  },
  {
   "cell_type": "code",
   "execution_count": 18,
   "id": "55052eae-e5c1-436d-9382-0ec548737de6",
   "metadata": {},
   "outputs": [
    {
     "name": "stdout",
     "output_type": "stream",
     "text": [
      "   flag   easting_m   northing_m\n",
      "0    A1  481012.000  4400171.000\n",
      "1    A2  481017.000  4400173.000\n",
      "2    A3  481021.000  4400176.000\n",
      "3    A4  481026.000  4400180.000\n",
      "4    A5  481030.000  4400183.000\n",
      "5    B1  481016.000  4400171.000\n",
      "6    B2  481020.000  4400173.000\n",
      "7    B3  481025.000  4400175.000\n",
      "8    B4  481029.000  4400177.000\n",
      "9    B5  481032.000  4400181.000\n",
      "10   C1  481019.000  4400167.000\n",
      "11   C2  481024.000  4400172.000\n",
      "12   C3  481029.000  4400176.000\n",
      "13   C4  481032.000  4400181.000\n",
      "14   C5  481033.000  4400179.000\n",
      "15   D1  481023.000  4400165.000\n",
      "16   D2  481026.000  4400169.000\n",
      "17   D3  481028.000  4400169.000\n",
      "18   D4  481031.000  4400171.000\n",
      "19   D5  481037.000  4400172.000\n",
      "20   E1  481041.000  4400167.000\n",
      "21   E2  481038.000  4400163.000\n",
      "22   E3  481033.000  4400160.000\n",
      "23   E4  481030.000  4400156.000\n",
      "24   E5  481027.000  4400154.000\n",
      "25   A1  481018.000  4400178.000\n",
      "26   A2  481022.000  4400180.000\n",
      "27   A3  481027.000  4400184.000\n",
      "28   A4  481031.000  4400186.000\n",
      "29   A5  481032.000  4400188.000\n",
      "30   B1  481022.000  4400174.000\n",
      "31   B2  481026.000  4400176.000\n",
      "32   B3  481028.000  4400177.000\n",
      "33   B4  481028.000  4400176.000\n",
      "34   B5  481033.000  4400179.000\n",
      "35   C1  481020.000  4400165.000\n",
      "36   C2  481024.000  4400171.000\n",
      "37   C3  481028.000  4400172.000\n",
      "38   C4  481033.000  4400176.000\n",
      "39   C5  481037.000  4400178.000\n",
      "40   D1  481021.000  4400165.000\n",
      "41   D2  481027.000   400167.000\n",
      "42   D3  481031.000  4400170.000\n",
      "43   D4  481034.000  4400172.000\n",
      "44   D5  481039.000  4400175.000\n",
      "45   E1  481023.000  4400162.000\n",
      "46   E2  481028.000  4400164.000\n",
      "47   E3  481032.000  4400165.000\n",
      "48   E4  481038.000  4400168.000\n",
      "49   E5  481041.000  4400169.000\n",
      "50   A1  481014.371  4400174.931\n",
      "51   A2  481018.034  4400178.063\n",
      "52   A3  481022.084  4400180.952\n",
      "53   A4  481026.202  4400183.751\n",
      "54   A5  481030.367  4400186.545\n",
      "(55, 3)\n"
     ]
    }
   ],
   "source": [
    "cols = [\"flag\", \"easting_m\", \"northing_m\"]\n",
    "hand_dfs = [h1[cols], h2[cols], h3[cols], h4[cols]]\n",
    "\n",
    "handheld_data = pd.concat(hand_dfs, ignore_index=True)\n",
    "\n",
    "print(handheld_data)\n",
    "print(handheld_data.shape)"
   ]
  },
  {
   "cell_type": "code",
   "execution_count": 19,
   "id": "20819528-ee42-4f1a-8f78-bc23cd67433f",
   "metadata": {},
   "outputs": [
    {
     "name": "stdout",
     "output_type": "stream",
     "text": [
      "   flag   easting_m   northing_m\n",
      "0    5e  481041.313  4400170.042\n",
      "1   5e1  481041.315  4400170.053\n",
      "2    4e  481037.226  4400167.237\n",
      "3   4e1  481037.217  4400167.243\n",
      "4    3e  481033.107  4400164.367\n",
      "..  ...         ...          ...\n",
      "83   c1  481019.637  4400167.096\n",
      "84   b1  481016.866  4400171.130\n",
      "85   c2  481023.770  4400169.889\n",
      "86   c4  481031.960  4400175.598\n",
      "87   b3  481024.994  4400176.859\n",
      "\n",
      "[88 rows x 3 columns]\n",
      "(88, 3)\n"
     ]
    }
   ],
   "source": [
    "cols = [\"flag\", \"easting_m\", \"northing_m\"]\n",
    "emlid_dfs = [e1[cols], e2[cols], e3[cols], e4[cols]]\n",
    "emlid_data = pd.concat(emlid_dfs, ignore_index=True)\n",
    "\n",
    "print(emlid_data)\n",
    "print(emlid_data.shape)"
   ]
  },
  {
   "cell_type": "code",
   "execution_count": 23,
   "id": "8298bf60-466c-47a6-8b77-248c8db4135e",
   "metadata": {},
   "outputs": [
    {
     "name": "stdout",
     "output_type": "stream",
     "text": [
      "<bound method NDFrame.head of        flag   easting_m   northing_m\n",
      "0        A1  481022.084  4400180.952\n",
      "1        A2  481018.034  4400178.063\n",
      "2        A3  481014.371  4400174.931\n",
      "3        A4  481026.202  4400183.751\n",
      "4        A5  481030.367  4400186.545\n",
      "5        D1  481022.495  4400162.874\n",
      "6        D2  481026.594  4400165.736\n",
      "7        D3  481030.689  4400168.581\n",
      "8        D4  481034.768  4400171.461\n",
      "9        D5  481038.911  4400174.234\n",
      "10       E1  481025.271  4400158.739\n",
      "11       E2  481029.385  4400161.636\n",
      "12       E3  481033.475  4400164.510\n",
      "13       E4  481037.580  4400167.344\n",
      "14       E5  481041.715  4400170.141\n",
      "15  EL_5773  480944.354  4400167.148\n",
      "16       b5  481033.196  4400182.449\n",
      "17       b4  481029.047  4400179.663\n",
      "18       b3  481024.933  4400176.858\n",
      "19       b2  481020.866  4400173.940\n",
      "20       b1  481016.811  4400171.082\n",
      "21       c5  481036.072  4400178.346\n",
      "22       c4  481031.928  4400175.563\n",
      "23       c3  481027.808  4400172.711\n",
      "24       c2  481023.713  4400169.858\n",
      "25       c1  481019.568  4400167.059\n",
      "26      Kaf  481043.533  4400178.933\n",
      "27     base  481012.800  4400187.822\n",
      "28       A1  481013.965  4400175.192\n",
      "29       A2  481018.028  4400178.064\n",
      "30       A3  481022.166  4400180.935\n",
      "31       A4  481026.304  4400183.788\n",
      "32       A5  481030.399  4400186.590\n",
      "33       B1  481016.867  4400171.127\n",
      "34       B2  481020.921  4400174.000\n",
      "35       B3  481024.973  4400176.888\n",
      "36       B4  481029.095  4400179.746\n",
      "37       B5  481033.280  4400182.542\n",
      "38       C1  481019.737  4400167.082\n",
      "39       C2  481023.800  4400169.876\n",
      "40       C3  481027.833  4400172.698\n",
      "41       C4  481031.967  4400175.490\n",
      "42       C5  481036.194  4400178.352\n",
      "43       D1  481022.428  4400162.869\n",
      "44       D2  481026.597  4400165.700\n",
      "45       D3  481030.680  4400168.584\n",
      "46       D4  481034.789  4400171.443\n",
      "47       D5  481038.936  4400174.211\n",
      "48       E1  481025.311  4400158.746\n",
      "49       E2  481029.428  4400161.601\n",
      "50       E3  481033.520  4400164.465\n",
      "51       E4  481037.646  4400167.330\n",
      "52       E5  481041.773  4400170.098\n",
      "53       CT  481047.852  4400153.840>\n",
      "(54, 3)\n"
     ]
    }
   ],
   "source": [
    "cols = [\"flag\", \"easting_m\", \"northing_m\"]\n",
    "trimble_dfs = [t1[cols], t2[cols], t3[cols], t4[cols]]\n",
    "trimble_data = pd.concat(trimble_dfs, ignore_index=True)\n",
    "\n",
    "print(trimble_data.head)\n",
    "print(trimble_data.shape)"
   ]
  },
  {
   "cell_type": "code",
   "execution_count": 22,
   "id": "2b2f732a-5e63-4761-8d5f-e3b72ef65f5a",
   "metadata": {},
   "outputs": [
    {
     "data": {
      "image/png": "[encoded data removed]",
      "text/plain": [
       "<Figure size 700x700 with 1 Axes>"
      ]
     },
     "metadata": {},
     "output_type": "display_data"
    }
   ],
   "source": [
    "x0, y0 = 481005, 4400150  #481014.371  4400174.931\n",
    "plt.xlim(x0, x0 + 45)\n",
    "plt.ylim(y0, y0 + 46)\n",
    "\n",
    "plt.scatter(handheld_data['easting_m'], handheld_data['northing_m'],\n",
    "            marker='o', label='Handheld')\n",
    "plt.scatter(emlid_data['easting_m'], emlid_data['northing_m'],\n",
    "            marker='s', label='Emlid')\n",
    "plt.scatter(trimble_data['easting_m'], trimble_data['northing_m'],\n",
    "            marker='^', label='Trimble')\n",
    "\n",
    "plt.rcParams['figure.figsize'] = (10, 10)\n",
    "plt.rcParams['font.size'] = 12\n",
    "plt.xlabel('Easting (m)')\n",
    "plt.ylabel('Northing (m)')\n",
    "plt.grid(True, linestyle='--', linewidth=0.6)\n",
    "plt.title('Total station, DGPS, & Handheld GPS Survey', fontsize= 16, fontweight= 'bold')\n",
    "\n",
    "ax = plt.gca()\n",
    "ax.set_facecolor('#f0f0f0')\n",
    "ax.set_aspect('equal', adjustable='box')\n",
    "plt.legend(title='Instrument', loc='upper right', scatterpoints=1, markerscale=1.2, frameon=True)\n",
    "plt.show()\n"
   ]
  },
  {
   "cell_type": "code",
   "execution_count": null,
   "id": "c265fd4b-8bad-49c8-86f7-2135d796532a",
   "metadata": {},
   "outputs": [],
   "source": []
  }
 ],
 "metadata": {
  "kernelspec": {
   "display_name": "Python 3 (ipykernel)",
   "language": "python",
   "name": "python3"
  },
  "language_info": {
   "codemirror_mode": {
    "name": "ipython",
    "version": 3
   },
   "file_extension": ".py",
   "mimetype": "text/x-python",
   "name": "python",
   "nbconvert_exporter": "python",
   "pygments_lexer": "ipython3",
   "version": "3.11.11"
  }
 },
 "nbformat": 4,
 "nbformat_minor": 5
}
